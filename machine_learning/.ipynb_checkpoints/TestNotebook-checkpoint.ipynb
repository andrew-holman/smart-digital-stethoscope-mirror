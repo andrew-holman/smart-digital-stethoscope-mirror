{
 "cells": [
  {
   "cell_type": "code",
   "execution_count": null,
   "metadata": {},
   "outputs": [
    {
     "name": "stdout",
     "output_type": "stream",
     "text": [
      "Epoch 1/50\n",
      "378/378 [==============================] - 0s 776us/step - loss: 0.7145 - accuracy: 0.7249\n",
      "Epoch 2/50\n",
      "378/378 [==============================] - 0s 739us/step - loss: 0.5550 - accuracy: 0.7540\n",
      "Epoch 3/50\n",
      "378/378 [==============================] - 0s 763us/step - loss: 0.5643 - accuracy: 0.7804\n",
      "Epoch 4/50\n",
      "378/378 [==============================] - 0s 729us/step - loss: 0.5322 - accuracy: 0.8042\n",
      "Epoch 5/50\n",
      "378/378 [==============================] - 0s 712us/step - loss: 0.4893 - accuracy: 0.7989\n",
      "Epoch 6/50\n",
      "378/378 [==============================] - 0s 968us/step - loss: 0.5064 - accuracy: 0.79890s - loss: 0.5541 - accura\n",
      "Epoch 7/50\n",
      "378/378 [==============================] - 0s 732us/step - loss: 0.5166 - accuracy: 0.8042\n",
      "Epoch 8/50\n",
      "378/378 [==============================] - 0s 668us/step - loss: 0.5084 - accuracy: 0.7831\n",
      "Epoch 9/50\n",
      "378/378 [==============================] - 0s 627us/step - loss: 0.5033 - accuracy: 0.8201\n",
      "Epoch 10/50\n",
      "158/378 [===========>..................] - ETA: 0s - loss: 0.4850 - accuracy: 0.8418"
     ]
    }
   ],
   "source": [
    "import pandas as pd\n",
    "import tensorflow as tf\n",
    "from tensorflow import keras\n",
    "from sklearn.model_selection import train_test_split\n",
    "import numpy as np\n",
    "df = pd.read_csv('molecular_activity.csv')\n",
    "properties = list(df.columns.values)\n",
    "properties.remove('Activity')\n",
    "X = df[properties]\n",
    "y = df['Activity']\n",
    "\n",
    "X_train, X_test, y_train, y_test = train_test_split(X, y, test_size=0.3, random_state=0)\n",
    "\n",
    "model = keras.Sequential([\n",
    "    keras.layers.Flatten(input_shape=(4,)),\n",
    "    keras.layers.Dense(16, activation=tf.nn.relu),\n",
    "    keras.layers.Dense(16, activation=tf.nn.relu),\n",
    "    keras.layers.Dense(1, activation=tf.nn.sigmoid),\n",
    "])\n",
    "\n",
    "model.compile(optimizer='adam',\n",
    "              loss='binary_crossentropy',\n",
    "              metrics=['accuracy'])\n",
    "model.fit(X_train, y_train, epochs=50, batch_size=1)\n",
    "\n",
    "# test_loss, test_acc = model.evaluate(X_test, y_test)\n",
    "print('Test accuracy:', test_acc)"
   ]
  }
 ],
 "metadata": {
  "kernelspec": {
   "display_name": "Python 3",
   "language": "python",
   "name": "python3"
  },
  "language_info": {
   "codemirror_mode": {
    "name": "ipython",
    "version": 3
   },
   "file_extension": ".py",
   "mimetype": "text/x-python",
   "name": "python",
   "nbconvert_exporter": "python",
   "pygments_lexer": "ipython3",
   "version": "3.8.5"
  }
 },
 "nbformat": 4,
 "nbformat_minor": 4
}
